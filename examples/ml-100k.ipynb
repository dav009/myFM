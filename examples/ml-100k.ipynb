{
 "cells": [
  {
   "cell_type": "code",
   "execution_count": null,
   "metadata": {},
   "outputs": [],
   "source": [
    "%matplotlib inline\n",
    "import numpy as np\n",
    "from sklearn.preprocessing import OneHotEncoder\n",
    "from sklearn import metrics\n",
    "\n",
    "import myfm\n",
    "\n",
    "# read movielens 100k data.\n",
    "from movielens100k_loader import load_dataset\n",
    "\n",
    "df_train, df_test = load_dataset(\n",
    "    id_only=True, fold=3\n",
    ") # Note the dependence on the fold"
   ]
  },
  {
   "cell_type": "code",
   "execution_count": 2,
   "metadata": {},
   "outputs": [
    {
     "data": {
      "text/html": [
       "<div>\n",
       "<style scoped>\n",
       "    .dataframe tbody tr th:only-of-type {\n",
       "        vertical-align: middle;\n",
       "    }\n",
       "\n",
       "    .dataframe tbody tr th {\n",
       "        vertical-align: top;\n",
       "    }\n",
       "\n",
       "    .dataframe thead th {\n",
       "        text-align: right;\n",
       "    }\n",
       "</style>\n",
       "<table border=\"1\" class=\"dataframe\">\n",
       "  <thead>\n",
       "    <tr style=\"text-align: right;\">\n",
       "      <th></th>\n",
       "      <th>user_id</th>\n",
       "      <th>movie_id</th>\n",
       "      <th>rating</th>\n",
       "      <th>timestamp</th>\n",
       "    </tr>\n",
       "  </thead>\n",
       "  <tbody>\n",
       "    <tr>\n",
       "      <th>0</th>\n",
       "      <td>1</td>\n",
       "      <td>1</td>\n",
       "      <td>5</td>\n",
       "      <td>874965758</td>\n",
       "    </tr>\n",
       "    <tr>\n",
       "      <th>1</th>\n",
       "      <td>1</td>\n",
       "      <td>2</td>\n",
       "      <td>3</td>\n",
       "      <td>876893171</td>\n",
       "    </tr>\n",
       "    <tr>\n",
       "      <th>2</th>\n",
       "      <td>1</td>\n",
       "      <td>3</td>\n",
       "      <td>4</td>\n",
       "      <td>878542960</td>\n",
       "    </tr>\n",
       "    <tr>\n",
       "      <th>3</th>\n",
       "      <td>1</td>\n",
       "      <td>4</td>\n",
       "      <td>3</td>\n",
       "      <td>876893119</td>\n",
       "    </tr>\n",
       "    <tr>\n",
       "      <th>4</th>\n",
       "      <td>1</td>\n",
       "      <td>6</td>\n",
       "      <td>5</td>\n",
       "      <td>887431973</td>\n",
       "    </tr>\n",
       "  </tbody>\n",
       "</table>\n",
       "</div>"
      ],
      "text/plain": [
       "   user_id  movie_id  rating  timestamp\n",
       "0        1         1       5  874965758\n",
       "1        1         2       3  876893171\n",
       "2        1         3       4  878542960\n",
       "3        1         4       3  876893119\n",
       "4        1         6       5  887431973"
      ]
     },
     "execution_count": 2,
     "metadata": {},
     "output_type": "execute_result"
    }
   ],
   "source": [
    "df_train.head()"
   ]
  },
  {
   "cell_type": "code",
   "execution_count": 15,
   "metadata": {},
   "outputs": [],
   "source": [
    "def test_myfm(df_train, df_test, rank=8, grouping=None, classification=False, n_iter=100, samples=95):\n",
    "    explanation_columns = ['user_id', 'movie_id']\n",
    "    ohe = OneHotEncoder(handle_unknown='ignore')\n",
    "    X_train = ohe.fit_transform(df_train[explanation_columns])\n",
    "    X_test = ohe.transform(df_test[explanation_columns])\n",
    "    y_train = df_train.rating.values\n",
    "    y_test = df_test.rating.values\n",
    "    if classification:\n",
    "        y_train = y_train >= 4\n",
    "        y_test = y_test >=4\n",
    "        fm = myfm.MyFMClassifier(rank=rank, random_seed=334)\n",
    "    else:\n",
    "        fm = myfm.MyFMRegressor(rank=rank, random_seed=114514)\n",
    "    \n",
    "    if grouping:\n",
    "        grouping = [ i for i, category in enumerate(ohe.categories_) for _ in category]\n",
    "    X_train *= 1\n",
    "    X_test *= 1\n",
    "    fm.fit(X_train, y_train, grouping=grouping, n_iter=n_iter, n_kept_samples=samples)\n",
    "    \n",
    "    if classification:\n",
    "        prediction = fm.predict_proba(X_test)\n",
    "        roc = metrics.roc_auc_score(y_test, prediction)\n",
    "        ll = metrics.log_loss(y_test, prediction)\n",
    "        print('roc={roc}, ll={ll}'.format(roc=roc, ll=ll))\n",
    "    else:\n",
    "        prediction = fm.predict(X_test)\n",
    "        rmse = ((y_test - prediction) ** 2).mean() ** .5\n",
    "        mae = np.abs(y_test - prediction).mean()\n",
    "        print('rmse={rmse}, mae={mae}'.format(rmse=rmse, mae=mae))\n",
    "    return fm"
   ]
  },
  {
   "cell_type": "markdown",
   "metadata": {},
   "source": [
    "### Regression"
   ]
  },
  {
   "cell_type": "code",
   "execution_count": 16,
   "metadata": {},
   "outputs": [
    {
     "name": "stderr",
     "output_type": "stream",
     "text": [
      "alpha = 1.55 w0 = 3.10 : 100%|██████████| 300/300 [00:05<00:00, 55.87it/s]\n"
     ]
    },
    {
     "name": "stdout",
     "output_type": "stream",
     "text": [
      "rmse=0.8993437575803191, mae=0.7040433136140822\n"
     ]
    }
   ],
   "source": [
    "# basic regression\n",
    "test_myfm(df_train, df_test, rank=8, classification=False, n_iter=300);"
   ]
  },
  {
   "cell_type": "code",
   "execution_count": 17,
   "metadata": {},
   "outputs": [
    {
     "name": "stderr",
     "output_type": "stream",
     "text": [
      "alpha = 1.56 w0 = 3.33 : 100%|██████████| 100/100 [00:02<00:00, 38.28it/s]\n"
     ]
    },
    {
     "name": "stdout",
     "output_type": "stream",
     "text": [
      "rmse=0.8959382764109612, mae=0.7048050699780434\n"
     ]
    }
   ],
   "source": [
    "# with grouping\n",
    "fm = test_myfm(df_train, df_test, rank=8, grouping=True, classification=False)"
   ]
  },
  {
   "cell_type": "markdown",
   "metadata": {},
   "source": [
    "### Classification"
   ]
  },
  {
   "cell_type": "code",
   "execution_count": null,
   "metadata": {},
   "outputs": [],
   "source": [
    "test_myfm(df_train, df_test, rank=8, classification=True);"
   ]
  },
  {
   "cell_type": "code",
   "execution_count": null,
   "metadata": {},
   "outputs": [],
   "source": [
    "test_myfm(df_train, df_test, rank=8, classification=True, grouping=True);"
   ]
  },
  {
   "cell_type": "markdown",
   "metadata": {},
   "source": [
    "### Trace plot of hyper parameters"
   ]
  },
  {
   "cell_type": "code",
   "execution_count": null,
   "metadata": {},
   "outputs": [],
   "source": [
    "trace = fm.get_hyper_trace()\n",
    "trace.head()"
   ]
  },
  {
   "cell_type": "code",
   "execution_count": null,
   "metadata": {},
   "outputs": [],
   "source": [
    "trace[['alpha']].plot();"
   ]
  },
  {
   "cell_type": "code",
   "execution_count": null,
   "metadata": {},
   "outputs": [],
   "source": [
    "trace[[c for c in trace.columns if c.startswith('mu_w')]].plot();"
   ]
  },
  {
   "cell_type": "code",
   "execution_count": null,
   "metadata": {},
   "outputs": [],
   "source": [
    "trace[[c for c in trace.columns if c.startswith('lambda_w')]].plot();"
   ]
  },
  {
   "cell_type": "code",
   "execution_count": null,
   "metadata": {},
   "outputs": [],
   "source": [
    "trace[[c for c in trace.columns if c.startswith('mu_V')]].plot();"
   ]
  },
  {
   "cell_type": "code",
   "execution_count": null,
   "metadata": {},
   "outputs": [],
   "source": [
    "trace[[c for c in trace.columns if c.startswith('lambda_V')]].plot();"
   ]
  },
  {
   "cell_type": "code",
   "execution_count": null,
   "metadata": {},
   "outputs": [],
   "source": []
  }
 ],
 "metadata": {
  "kernelspec": {
   "display_name": "Python 3",
   "language": "python",
   "name": "python3"
  },
  "language_info": {
   "codemirror_mode": {
    "name": "ipython",
    "version": 3
   },
   "file_extension": ".py",
   "mimetype": "text/x-python",
   "name": "python",
   "nbconvert_exporter": "python",
   "pygments_lexer": "ipython3",
   "version": "3.7.4"
  }
 },
 "nbformat": 4,
 "nbformat_minor": 4
}
